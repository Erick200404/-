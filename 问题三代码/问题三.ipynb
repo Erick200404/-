{
 "cells": [
  {
   "cell_type": "code",
   "execution_count": null,
   "metadata": {},
   "outputs": [],
   "source": [
    "import pandas as pd\n",
    "import datetime\n",
    "from sklearn.linear_model import LinearRegression\n",
    "from sklearn.metrics import r2_score\n",
    "import matplotlib.pyplot as plt\n",
    "from matplotlib.font_manager import FontProperties\n",
    "import seaborn as sns\n",
    "import scipy.stats as stats\n",
    "import statsmodels.tsa.api as smt\n",
    "import statsmodels.api as sm\n",
    "import numpy as np\n",
    "import os\n",
    "import sys\n",
    "from arch import arch_model\n",
    "import matplotlib as mpl\n",
    "from statsmodels.stats.diagnostic import acorr_ljungbox #白噪声检验\n",
    "from statsmodels.graphics.tsaplots import plot_predict\n",
    "from sklearn.metrics import mean_squared_error\n",
    "#######读取数据等\n",
    "from statsmodels.tsa.stattools import adfuller\n",
    "import warnings\n",
    "# 禁用所有警告\n",
    "warnings.filterwarnings(\"ignore\")\n",
    "# 设置字体为支持中文的字体\n",
    "font = FontProperties(fname=r\"C:\\Windows\\Fonts\\simhei.ttf\", size=14)\n",
    "from sklearn.metrics import mean_absolute_error\n",
    "from sklearn.model_selection import train_test_split\n"
   ]
  },
  {
   "cell_type": "code",
   "execution_count": null,
   "metadata": {},
   "outputs": [],
   "source": [
    "data=pd.read_excel(\"C:/Users/韩甄泽/OneDrive/桌面/2023年秋数据科学导论大作业/附件3_项目三数据集/merged_data_123.xlsx\")"
   ]
  },
  {
   "cell_type": "code",
   "execution_count": null,
   "metadata": {},
   "outputs": [],
   "source": [
    "asd=pd.read_excel(\"C:/Users/韩甄泽/OneDrive/桌面/2023年秋数据科学导论大作业/附件3_项目三数据集/附件4.xlsx\",sheet_name='Sheet1')"
   ]
  },
  {
   "cell_type": "code",
   "execution_count": null,
   "metadata": {},
   "outputs": [],
   "source": [
    "data"
   ]
  },
  {
   "cell_type": "code",
   "execution_count": null,
   "metadata": {},
   "outputs": [],
   "source": [
    "data['销售日期']=pd.to_datetime(data['销售日期'])\n",
    "data = data.groupby(['销售日期', '单品名称']).agg({\n",
    "    '销量(千克)': 'sum',\n",
    "    '销售单价(元/千克)': lambda x: (x * data.loc[x.index, '销量(千克)']).sum() / data.loc[x.index, '销量(千克)'].sum(),\n",
    "    '批发价格(元/千克)': lambda x: (x * data.loc[x.index, '销量(千克)']).sum() / data.loc[x.index, '销量(千克)'].sum()\n",
    "}).reset_index()\n",
    "data1=data[((data['销售日期']>='2023-06-24')&(data['销售日期']<='2023-06-30'))]\n",
    "data2=data1[data1['销量(千克)']>=2.5]\n"
   ]
  },
  {
   "cell_type": "code",
   "execution_count": null,
   "metadata": {},
   "outputs": [],
   "source": [
    "selected_products = []\n",
    "start_date = datetime.date(2023, 6, 24)\n",
    "end_date = datetime.date(2023, 6, 30)\n",
    "for day in range((end_date - start_date).days + 1):\n",
    "    current_date = start_date + datetime.timedelta(days=day)\n",
    "    current_date_str = current_date.strftime('%Y-%m-%d')\n",
    "    daily_products = data2[(data2['销售日期'] == current_date_str) & (data2['销量(千克)'] > 2.5)]['单品名称'].tolist()\n",
    "    if len(daily_products) > 0:\n",
    "        selected_products.extend(daily_products)\n",
    "        \n",
    "\n",
    "result = []\n",
    "for product in set(selected_products):\n",
    "    if selected_products.count(product) >= 3:\n",
    "        result.append(product)\n",
    "\n"
   ]
  },
  {
   "cell_type": "code",
   "execution_count": null,
   "metadata": {},
   "outputs": [],
   "source": [
    "# 创建一个空的数据框，用于存放加权平均值结果\n",
    "weighted_avg_df = pd.DataFrame(columns=['单品名称', '加权平均销量'])\n",
    "for product in result:\n",
    "    product_data=data2[data2['单品名称']==product]\n",
    "    flitered_data =product_data[(product_data['销售日期']>=start_date.strftime('%Y-%m-%d'))&(product_data['销售日期']<=end_date.strftime('%Y-%m-%d'))]\n",
    "    weighted_sum = sum([price * weight for price, weight in zip(flitered_data['批发价格(元/千克)'],flitered_data['销量(千克)'] )])\n",
    "    #计算加权平均值\n",
    "    total_mean=weighted_sum/sum(flitered_data['销量(千克)'])\n",
    "    weighted_avg_df=weighted_avg_df.append({'单品名称':product,'加权平均值':total_mean},ignore_index=True)\n",
    "\n",
    "weighted_avg_df2=weighted_avg_df[['单品名称','加权平均值']].copy()\n",
    "weighted_avg_df2.to_excel(\"C:/Users/韩甄泽/OneDrive/桌面/s1234.xlsx\")"
   ]
  },
  {
   "cell_type": "code",
   "execution_count": null,
   "metadata": {},
   "outputs": [],
   "source": [
    "# 定义函数来检测和删除异常值\n",
    "def remove_outliers(df, column, threshold=3):\n",
    "    z_scores = np.abs((df[column] - df[column].mean()) / df[column].std())\n",
    "    df_no_outliers = df[z_scores < threshold]\n",
    "    return df_no_outliers\n",
    "result_df=pd.DataFrame(columns=['单品名称', '系数k', '截距b'])\n",
    "# 按分类编码分组\n",
    "grouped_df = data.groupby('单品名称')\n",
    "\n",
    "# 要处理的单品码编列表\n",
    "target_product_codes = [\n",
    "    \"云南生菜(份)\", \"娃娃菜\", \"姜蒜小米椒组合装(小份)\", \"西兰花\", \"长线茄\", \"双孢菇(盒)\", \"金针菇(盒)\", \"螺丝椒(份)\",\n",
    "    \"红薯尖\", \"菠菜(份)\", \"小米椒(份)\", \"虫草花(份)\", \"枝江青梗散花\", \"海鲜菇(包)\", \"净藕(1)\", \"高瓜(1)\",\n",
    "    \"小皱皮(份)\", \"青茄子(1)\", \"西峡花菇(1)\", \"紫茄子(2)\", \"云南油麦菜(份)\", \"木耳菜\", \"上海青\", \"奶白菜\",\n",
    "    \"螺丝椒\", \"竹叶菜\", \"小青菜(1)\", \"洪湖藕带\", \"芜湖青椒(1)\", \"苋菜\"\n",
    "]\n",
    "# 循环遍历每个商品的相关系数\n",
    "for code, group_df in grouped_df:\n",
    "    max_corr = 0\n",
    "    max_r2 = -1\n",
    "    best_code = None\n",
    "    best_date_range = None\n",
    "    if code in target_product_codes:\n",
    "        \n",
    "        group_df = group_df[group_df['销售类型'] == '销售']\n",
    "        group_df = group_df[group_df['是否打折销售'] == '否']\n",
    "        group_df = group_df.groupby(['销售日期', '单品名称']).agg({\n",
    "        '销量(千克)': 'sum',\n",
    "        '销售单价(元/千克)': lambda x: (x * group_df.loc[x.index, '销量(千克)']).sum() / group_df.loc[x.index, '销量(千克)'].sum(),\n",
    "        '批发价格(元/千克)': lambda x: (x * group_df.loc[x.index, '销量(千克)']).sum() / group_df.loc[x.index, '销量(千克)'].sum()\n",
    "        \n",
    "    }).reset_index()\n",
    "        # 计算相关系数\n",
    "        correlation_coefficient = group_df['批发价格(元/千克)'].corr(group_df['销售单价(元/千克)'])\n",
    "        \n",
    "        features = group_df[['批发价格(元/千克)']]\n",
    "        target = group_df['销售单价(元/千克)']\n",
    "\n",
    "        # 将数据分为训练集和测试集\n",
    "        X_train, X_test, y_train, y_test = train_test_split(features, target, test_size=0.1, random_state=42)\n",
    "\n",
    "        # 创建并训练线性回归模型\n",
    "        model = LinearRegression(fit_intercept=False)\n",
    "        model.fit(X_train, y_train)\n",
    "\n",
    "        # 在测试集上进行预测\n",
    "        y_pred = model.predict(X_test)\n",
    "\n",
    "        # 评估模型性能\n",
    "        mse = mean_squared_error(y_test, y_pred)\n",
    "        # 均方根误差（Root Mean Squared Error, RMSE）\n",
    "        rmse = np.sqrt(mse)\n",
    "        # 平均绝对误差（Mean Absolute Error, MAE）\n",
    "        mae = mean_absolute_error(y_test, y_pred)\n",
    "        # 决定系数（Coefficient of Determination, R^2）\n",
    "        r2 = r2_score(y_test, y_pred)\n",
    "    \n",
    "        if abs(correlation_coefficient) > max_corr and abs(r2) > max_r2 and abs(r2) < 1:\n",
    "            max_corr = abs(correlation_coefficient)\n",
    "            max_r2 = abs(r2)\n",
    "\n",
    "        \n",
    "        k = model.coef_[0]\n",
    "        result_df=result_df.append({'单品名称':code, '系数k':k-1, '截距b':model.intercept_},ignore_index=True)\n",
    "        \n",
    "        # 输出相关系数最高且 R^2 最大的单品名称和日期范围\n",
    "        print(f\"相关系数最高且 R^2 最大的单品名称: {code}\")\n",
    "        print(f\"日期范围: {best_date_range}\")\n",
    "        print(f\"相关系数: {max_corr}\")\n",
    "        print(f\"R^2 值: {max_r2}\")\n",
    "        # 打印线性回归模型的系数和截距\n",
    "        print(f'截距 (Intercept): {model.intercept_}')\n",
    "        print(f'系数 (Coefficients): {model.coef_}')\n",
    "\n",
    "        # 打印线性回归模型的公式\n",
    "        formula = f'销售单价 = {model.intercept_:.4f} + '\n",
    "        for i, coef in enumerate(model.coef_):\n",
    "            formula += f'{coef:.4f} * {features.columns[i]}'\n",
    "            if i < len(model.coef_) - 1:\n",
    "                formula += ' + '\n",
    "\n",
    "        print('线性回归公式:', formula)\n"
   ]
  },
  {
   "cell_type": "code",
   "execution_count": null,
   "metadata": {},
   "outputs": [],
   "source": [
    "merged_df=pd.merge(result_df,asd[['单品名称','损耗率(%)']],on='单品名称')\n",
    "merged_df.to_excel(\"C:/Users/韩甄泽/OneDrive/桌面/问题三/kb无截距.xlsx\")"
   ]
  },
  {
   "cell_type": "code",
   "execution_count": null,
   "metadata": {},
   "outputs": [],
   "source": []
  }
 ],
 "metadata": {
  "kernelspec": {
   "display_name": "Python 3",
   "language": "python",
   "name": "python3"
  },
  "language_info": {
   "codemirror_mode": {
    "name": "ipython",
    "version": 3
   },
   "file_extension": ".py",
   "mimetype": "text/x-python",
   "name": "python",
   "nbconvert_exporter": "python",
   "pygments_lexer": "ipython3",
   "version": "3.10.10"
  }
 },
 "nbformat": 4,
 "nbformat_minor": 2
}
